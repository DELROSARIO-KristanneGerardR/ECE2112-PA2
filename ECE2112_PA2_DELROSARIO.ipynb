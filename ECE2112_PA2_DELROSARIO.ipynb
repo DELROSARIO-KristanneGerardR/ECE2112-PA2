{
 "cells": [
  {
   "cell_type": "markdown",
   "id": "a046e227-12fa-440c-809d-8fd4a95ac13f",
   "metadata": {},
   "source": [
    "## Programming Assignment 2"
   ]
  },
  {
   "cell_type": "markdown",
   "id": "3fe326ff-5aca-48a4-bd22-db3c9170da46",
   "metadata": {},
   "source": [
    "### Normalization Problem"
   ]
  },
  {
   "cell_type": "code",
   "execution_count": 97,
   "id": "ffd6e961-6d02-4132-815c-c0ea182afcd5",
   "metadata": {},
   "outputs": [],
   "source": [
    "import numpy as np"
   ]
  },
  {
   "cell_type": "code",
   "execution_count": 98,
   "id": "808bb12d-303d-4c11-b526-c2d048a7dbf3",
   "metadata": {},
   "outputs": [],
   "source": [
    "X=np.random.random((5,5))"
   ]
  },
  {
   "cell_type": "code",
   "execution_count": 99,
   "id": "b5bf751e-88e5-4793-ab39-d85aa71e45db",
   "metadata": {},
   "outputs": [],
   "source": [
    "mean=X.mean()"
   ]
  },
  {
   "cell_type": "code",
   "execution_count": 100,
   "id": "46054ead-f33f-48e2-a88f-4d8fee1d99ca",
   "metadata": {},
   "outputs": [],
   "source": [
    "standard_deviation=X.std()"
   ]
  },
  {
   "cell_type": "code",
   "execution_count": 101,
   "id": "ace93b92-7cf6-43da-bf08-1cf25c511486",
   "metadata": {},
   "outputs": [],
   "source": [
    "Z_array=(X-mean)/standard_deviation"
   ]
  },
  {
   "cell_type": "code",
   "execution_count": 102,
   "id": "34731990-d399-44c1-8475-64a77b928302",
   "metadata": {},
   "outputs": [],
   "source": [
    "np.save(\"X_normalized.npy\", Z_array)"
   ]
  },
  {
   "cell_type": "code",
   "execution_count": 115,
   "id": "403c104d-2b15-41aa-a6a3-144ffd811582",
   "metadata": {},
   "outputs": [
    {
     "name": "stdout",
     "output_type": "stream",
     "text": [
      "array([[0.14180879, 0.61070286, 0.3586823 , 0.86059853, 0.19274675],\n",
      "       [0.20219922, 0.76311671, 0.3227388 , 0.63289916, 0.59434955],\n",
      "       [0.55229215, 0.99596099, 0.55039339, 0.11109792, 0.12006031],\n",
      "       [0.09093524, 0.10067076, 0.67310727, 0.86337194, 0.07252998],\n",
      "       [0.39344623, 0.51611446, 0.12455799, 0.41292107, 0.21778868]])\n"
     ]
    },
    {
     "data": {
      "text/plain": [
       "array([[-1.00680811,  0.69627673, -0.21909502,  1.6039306 , -0.82179475],\n",
       "       [-0.78746213,  1.24986383, -0.34964656,  0.77689661,  0.63687937],\n",
       "       [ 0.48412136,  2.09558484,  0.47722482, -1.11835402, -1.08580142],\n",
       "       [-1.1915875 , -1.15622683,  0.92293775,  1.61400398, -1.25843781],\n",
       "       [-0.09282786,  0.35271924, -1.06946527, -0.0220927 , -0.73083916]])"
      ]
     },
     "execution_count": 115,
     "metadata": {},
     "output_type": "execute_result"
    }
   ],
   "source": [
    "print(repr(X))\n",
    "\n",
    "normalized=np.load(\"X_normalized.npy\")\n",
    "normalized"
   ]
  },
  {
   "cell_type": "markdown",
   "id": "cc12dc1a-1bbc-4075-a7f4-7f714d43967c",
   "metadata": {},
   "source": [
    "### Divisible by 3 Problem"
   ]
  },
  {
   "cell_type": "code",
   "execution_count": 104,
   "id": "5a015ebc-1beb-4add-a11f-b6b6297ece12",
   "metadata": {},
   "outputs": [],
   "source": [
    "import numpy as np"
   ]
  },
  {
   "cell_type": "code",
   "execution_count": 105,
   "id": "37bd6539-f631-4f32-88ef-39aae7e7c587",
   "metadata": {},
   "outputs": [],
   "source": [
    "squared_values = np.arange(1, 101) ** 2"
   ]
  },
  {
   "cell_type": "code",
   "execution_count": 106,
   "id": "ae802208-ad96-4421-825d-b9e0fe6a33b9",
   "metadata": {},
   "outputs": [
    {
     "data": {
      "text/plain": [
       "array([    1,     4,     9,    16,    25,    36,    49,    64,    81,\n",
       "         100,   121,   144,   169,   196,   225,   256,   289,   324,\n",
       "         361,   400,   441,   484,   529,   576,   625,   676,   729,\n",
       "         784,   841,   900,   961,  1024,  1089,  1156,  1225,  1296,\n",
       "        1369,  1444,  1521,  1600,  1681,  1764,  1849,  1936,  2025,\n",
       "        2116,  2209,  2304,  2401,  2500,  2601,  2704,  2809,  2916,\n",
       "        3025,  3136,  3249,  3364,  3481,  3600,  3721,  3844,  3969,\n",
       "        4096,  4225,  4356,  4489,  4624,  4761,  4900,  5041,  5184,\n",
       "        5329,  5476,  5625,  5776,  5929,  6084,  6241,  6400,  6561,\n",
       "        6724,  6889,  7056,  7225,  7396,  7569,  7744,  7921,  8100,\n",
       "        8281,  8464,  8649,  8836,  9025,  9216,  9409,  9604,  9801,\n",
       "       10000])"
      ]
     },
     "execution_count": 106,
     "metadata": {},
     "output_type": "execute_result"
    }
   ],
   "source": [
    "squared_values"
   ]
  },
  {
   "cell_type": "code",
   "execution_count": 107,
   "id": "9445173e-9258-4445-9bb9-49648ec89c45",
   "metadata": {},
   "outputs": [],
   "source": [
    "integer_arr = values.reshape(10, 10)"
   ]
  },
  {
   "cell_type": "code",
   "execution_count": 108,
   "id": "887f051a-34fa-46bf-9eea-4c12fd9f69c1",
   "metadata": {},
   "outputs": [
    {
     "data": {
      "text/plain": [
       "array([[    1,     4,     9,    16,    25,    36,    49,    64,    81,\n",
       "          100],\n",
       "       [  121,   144,   169,   196,   225,   256,   289,   324,   361,\n",
       "          400],\n",
       "       [  441,   484,   529,   576,   625,   676,   729,   784,   841,\n",
       "          900],\n",
       "       [  961,  1024,  1089,  1156,  1225,  1296,  1369,  1444,  1521,\n",
       "         1600],\n",
       "       [ 1681,  1764,  1849,  1936,  2025,  2116,  2209,  2304,  2401,\n",
       "         2500],\n",
       "       [ 2601,  2704,  2809,  2916,  3025,  3136,  3249,  3364,  3481,\n",
       "         3600],\n",
       "       [ 3721,  3844,  3969,  4096,  4225,  4356,  4489,  4624,  4761,\n",
       "         4900],\n",
       "       [ 5041,  5184,  5329,  5476,  5625,  5776,  5929,  6084,  6241,\n",
       "         6400],\n",
       "       [ 6561,  6724,  6889,  7056,  7225,  7396,  7569,  7744,  7921,\n",
       "         8100],\n",
       "       [ 8281,  8464,  8649,  8836,  9025,  9216,  9409,  9604,  9801,\n",
       "        10000]])"
      ]
     },
     "execution_count": 108,
     "metadata": {},
     "output_type": "execute_result"
    }
   ],
   "source": [
    "integer_arr"
   ]
  },
  {
   "cell_type": "code",
   "execution_count": 109,
   "id": "92d34d78-c5c8-44a8-a0b9-de9266d2fce8",
   "metadata": {},
   "outputs": [],
   "source": [
    "division=(integer_arr %3==0)"
   ]
  },
  {
   "cell_type": "code",
   "execution_count": 110,
   "id": "4444b525-c339-4883-b431-8baff89fe39b",
   "metadata": {},
   "outputs": [
    {
     "data": {
      "text/plain": [
       "array([[False, False,  True, False, False,  True, False, False,  True,\n",
       "        False],\n",
       "       [False,  True, False, False,  True, False, False,  True, False,\n",
       "        False],\n",
       "       [ True, False, False,  True, False, False,  True, False, False,\n",
       "         True],\n",
       "       [False, False,  True, False, False,  True, False, False,  True,\n",
       "        False],\n",
       "       [False,  True, False, False,  True, False, False,  True, False,\n",
       "        False],\n",
       "       [ True, False, False,  True, False, False,  True, False, False,\n",
       "         True],\n",
       "       [False, False,  True, False, False,  True, False, False,  True,\n",
       "        False],\n",
       "       [False,  True, False, False,  True, False, False,  True, False,\n",
       "        False],\n",
       "       [ True, False, False,  True, False, False,  True, False, False,\n",
       "         True],\n",
       "       [False, False,  True, False, False,  True, False, False,  True,\n",
       "        False]])"
      ]
     },
     "execution_count": 110,
     "metadata": {},
     "output_type": "execute_result"
    }
   ],
   "source": [
    "division"
   ]
  },
  {
   "cell_type": "code",
   "execution_count": 111,
   "id": "41802c8a-f297-417d-bfdf-61300a8c367e",
   "metadata": {},
   "outputs": [],
   "source": [
    "divisible_by_3=array[division]"
   ]
  },
  {
   "cell_type": "code",
   "execution_count": 112,
   "id": "b199f530-e146-4391-9a58-69629eee16eb",
   "metadata": {},
   "outputs": [
    {
     "data": {
      "text/plain": [
       "array([   9,   36,   81,  144,  225,  324,  441,  576,  729,  900, 1089,\n",
       "       1296, 1521, 1764, 2025, 2304, 2601, 2916, 3249, 3600, 3969, 4356,\n",
       "       4761, 5184, 5625, 6084, 6561, 7056, 7569, 8100, 8649, 9216, 9801])"
      ]
     },
     "execution_count": 112,
     "metadata": {},
     "output_type": "execute_result"
    }
   ],
   "source": [
    "divisible_by_3"
   ]
  },
  {
   "cell_type": "code",
   "execution_count": 113,
   "id": "fa0dece5-2203-4c85-92a3-71f6ab7cdc28",
   "metadata": {},
   "outputs": [],
   "source": [
    "np.save(\"div_by_3.npy\", divisible_by_3)"
   ]
  },
  {
   "cell_type": "code",
   "execution_count": 114,
   "id": "ac4a34c2-4e1f-4c6a-8a4a-5d75ded47670",
   "metadata": {},
   "outputs": [
    {
     "data": {
      "text/plain": [
       "array([   9,   36,   81,  144,  225,  324,  441,  576,  729,  900, 1089,\n",
       "       1296, 1521, 1764, 2025, 2304, 2601, 2916, 3249, 3600, 3969, 4356,\n",
       "       4761, 5184, 5625, 6084, 6561, 7056, 7569, 8100, 8649, 9216, 9801])"
      ]
     },
     "execution_count": 114,
     "metadata": {},
     "output_type": "execute_result"
    }
   ],
   "source": [
    "loaded=np.load(\"div_by_3.npy\")\n",
    "loaded"
   ]
  }
 ],
 "metadata": {
  "kernelspec": {
   "display_name": "Python [conda env:base] *",
   "language": "python",
   "name": "conda-base-py"
  },
  "language_info": {
   "codemirror_mode": {
    "name": "ipython",
    "version": 3
   },
   "file_extension": ".py",
   "mimetype": "text/x-python",
   "name": "python",
   "nbconvert_exporter": "python",
   "pygments_lexer": "ipython3",
   "version": "3.13.5"
  }
 },
 "nbformat": 4,
 "nbformat_minor": 5
}
